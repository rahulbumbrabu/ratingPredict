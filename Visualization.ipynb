{
 "cells": [
  {
   "cell_type": "code",
   "execution_count": 42,
   "id": "fc8d1ff8",
   "metadata": {},
   "outputs": [],
   "source": [
    "import pandas as pd\n",
    "import matplotlib.pyplot as plt"
   ]
  },
  {
   "cell_type": "code",
   "execution_count": null,
   "id": "5bcc6f91",
   "metadata": {},
   "outputs": [],
   "source": []
  },
  {
   "cell_type": "code",
   "execution_count": 95,
   "id": "67e26f3c",
   "metadata": {},
   "outputs": [],
   "source": [
    "df_bookings = pd.read_csv('bookings.csv')\n",
    "df_bookings_data = pd.read_csv('bookings_data.csv')\n",
    "df_customer_data = pd.read_csv('customer_data.csv')\n",
    "df_hotels_dats = pd.read_csv('hotels_data.csv')\n",
    "df_payments_data = pd.read_csv('payments_data.csv')\n",
    "df_train_data = pd.read_csv('train_data.csv')"
   ]
  },
  {
   "cell_type": "code",
   "execution_count": 96,
   "id": "0fbd915d",
   "metadata": {},
   "outputs": [
    {
     "data": {
      "text/plain": [
       "array([1, -1], dtype=object)"
      ]
     },
     "execution_count": 96,
     "metadata": {},
     "output_type": "execute_result"
    }
   ],
   "source": [
    "df_train_data = pd.merge(df_train_data, df_payments_data, on = 'booking_id' , how = 'inner')\n",
    "df_bookings.booking_status[df_bookings.booking_status == 'completed'] = 1\n",
    "df_bookings.booking_status[df_bookings.booking_status != 1 ] = -1\n",
    "df_bookings.booking_status.unique()\n"
   ]
  },
  {
   "cell_type": "code",
   "execution_count": 78,
   "id": "23edbdbf",
   "metadata": {},
   "outputs": [
    {
     "name": "stderr",
     "output_type": "stream",
     "text": [
      "C:\\Users\\admin\\AppData\\Local\\Temp\\ipykernel_15308\\4101812053.py:17: SettingWithCopyWarning: \n",
      "A value is trying to be set on a copy of a slice from a DataFrame\n",
      "\n",
      "See the caveats in the documentation: https://pandas.pydata.org/pandas-docs/stable/user_guide/indexing.html#returning-a-view-versus-a-copy\n",
      "  df_train_data.payment_type[df_train_data.payment_type == 'credit_card'] = 1\n",
      "C:\\Users\\admin\\AppData\\Local\\Temp\\ipykernel_15308\\4101812053.py:18: SettingWithCopyWarning: \n",
      "A value is trying to be set on a copy of a slice from a DataFrame\n",
      "\n",
      "See the caveats in the documentation: https://pandas.pydata.org/pandas-docs/stable/user_guide/indexing.html#returning-a-view-versus-a-copy\n",
      "  df_train_data.payment_type[df_train_data.payment_type == 'gift_card'] = 2\n",
      "C:\\Users\\admin\\AppData\\Local\\Temp\\ipykernel_15308\\4101812053.py:19: SettingWithCopyWarning: \n",
      "A value is trying to be set on a copy of a slice from a DataFrame\n",
      "\n",
      "See the caveats in the documentation: https://pandas.pydata.org/pandas-docs/stable/user_guide/indexing.html#returning-a-view-versus-a-copy\n",
      "  df_train_data.payment_type[df_train_data.payment_type == 'debit_card'] = 3\n",
      "C:\\Users\\admin\\AppData\\Local\\Temp\\ipykernel_15308\\4101812053.py:20: SettingWithCopyWarning: \n",
      "A value is trying to be set on a copy of a slice from a DataFrame\n",
      "\n",
      "See the caveats in the documentation: https://pandas.pydata.org/pandas-docs/stable/user_guide/indexing.html#returning-a-view-versus-a-copy\n",
      "  df_train_data.payment_type[df_train_data.payment_type == 'voucher'] = 4\n",
      "C:\\Users\\admin\\AppData\\Local\\Temp\\ipykernel_15308\\4101812053.py:21: SettingWithCopyWarning: \n",
      "A value is trying to be set on a copy of a slice from a DataFrame\n",
      "\n",
      "See the caveats in the documentation: https://pandas.pydata.org/pandas-docs/stable/user_guide/indexing.html#returning-a-view-versus-a-copy\n",
      "  df_train_data.payment_type[df_train_data.payment_type == 'not_defined'] = -1\n"
     ]
    }
   ],
   "source": [
    "df_train_data.payment_type[df_train_data.payment_type == 'credit_card'] = 1\n",
    "df_train_data.payment_type[df_train_data.payment_type == 'gift_card'] = 2\n",
    "df_train_data.payment_type[df_train_data.payment_type == 'debit_card'] = 3\n",
    "df_train_data.payment_type[df_train_data.payment_type == 'voucher'] = 4\n",
    "df_train_data.payment_type[df_train_data.payment_type == 'not_defined'] = -1"
   ]
  },
  {
   "cell_type": "code",
   "execution_count": 91,
   "id": "05019fcf",
   "metadata": {},
   "outputs": [
    {
     "data": {
      "text/plain": [
       "[0        87114b39712e6da79b0a377eb73fc7af\n",
       " 1        81e283fa7e4f11123a3fb894f18e6bfb\n",
       " 2        6530bb5ed4a7648915306a63d374c9e4\n",
       " 3        5f95d01e79bd1349cc208361f099d6f1\n",
       " 4        d871cd5c22b83b5ea8f6e0e2eaf8e099\n",
       "                        ...               \n",
       " 63218    734a0b1c8111f2272a3f36d398cd699c\n",
       " 63219    f0669f784db00fa86d035cf860222ec9\n",
       " 63220    4744368f5571d1f590031933e455d400\n",
       " 63221    039fc1f0ceb7635e3f7d92067725825d\n",
       " 63222    b1eec2a1fbb265a0db050890531360ec\n",
       " Name: booking_id, Length: 63223, dtype: object,\n",
       " 0         397.26\n",
       " 1        1333.25\n",
       " 2         682.50\n",
       " 3          42.78\n",
       " 4          46.96\n",
       "           ...   \n",
       " 63218     351.33\n",
       " 63219     209.76\n",
       " 63220     231.56\n",
       " 63221      66.41\n",
       " 63222      40.68\n",
       " Name: payment_value_x, Length: 63223, dtype: float64]"
      ]
     },
     "execution_count": 91,
     "metadata": {},
     "output_type": "execute_result"
    }
   ],
   "source": [
    "\n",
    "# df_train_data.groupby(['booking_id'])['payment_value'].sum()\n",
    "\n",
    "data  = [df_train_data.booking_id, df_train_data.payment_value_x]\n",
    "data"
   ]
  },
  {
   "cell_type": "code",
   "execution_count": 83,
   "id": "f086fe01",
   "metadata": {},
   "outputs": [
    {
     "data": {
      "text/plain": [
       "22470     66.02\n",
       "22471     29.16\n",
       "22472      3.71\n",
       "22473      1.08\n",
       "22474     12.86\n",
       "22475      8.51\n",
       "22476      3.68\n",
       "22477      0.66\n",
       "22478      5.02\n",
       "22479      4.03\n",
       "22480      0.00\n",
       "22481     19.26\n",
       "22482     29.05\n",
       "22483     14.04\n",
       "22484      2.95\n",
       "22485     26.02\n",
       "22486      3.60\n",
       "22487      4.11\n",
       "22488      5.02\n",
       "22489      0.00\n",
       "22490     12.86\n",
       "22491     28.27\n",
       "22492      3.72\n",
       "22493      0.73\n",
       "22494      0.32\n",
       "22495     18.86\n",
       "22496    150.00\n",
       "22497      0.42\n",
       "22498      4.03\n",
       "Name: payment_value, dtype: float64"
      ]
     },
     "execution_count": 83,
     "metadata": {},
     "output_type": "execute_result"
    }
   ],
   "source": [
    "# df_train_data = df_train_data.sort_values('payment_sequential').drop_duplicates(['booking_id'], keep='last')\n",
    "# print(df_train_data.payment_value for df_train_data.booking_id in 'd1b0e818e3ccc5cb0e39231352fa65da')\n",
    "df_train_data.loc[df_train_data['booking_id'] == 'd1b0e818e3ccc5cb0e39231352fa65da', 'payment_value']"
   ]
  },
  {
   "cell_type": "code",
   "execution_count": 84,
   "id": "969a6ce2",
   "metadata": {},
   "outputs": [
    {
     "data": {
      "text/html": [
       "<div>\n",
       "<style scoped>\n",
       "    .dataframe tbody tr th:only-of-type {\n",
       "        vertical-align: middle;\n",
       "    }\n",
       "\n",
       "    .dataframe tbody tr th {\n",
       "        vertical-align: top;\n",
       "    }\n",
       "\n",
       "    .dataframe thead th {\n",
       "        text-align: right;\n",
       "    }\n",
       "</style>\n",
       "<table border=\"1\" class=\"dataframe\">\n",
       "  <thead>\n",
       "    <tr style=\"text-align: right;\">\n",
       "      <th></th>\n",
       "      <th>booking_id</th>\n",
       "      <th>rating_score</th>\n",
       "      <th>payment_sequential</th>\n",
       "      <th>payment_type</th>\n",
       "      <th>payment_installments</th>\n",
       "      <th>payment_value</th>\n",
       "    </tr>\n",
       "  </thead>\n",
       "  <tbody>\n",
       "    <tr>\n",
       "      <th>0</th>\n",
       "      <td>87114b39712e6da79b0a377eb73fc7af</td>\n",
       "      <td>4</td>\n",
       "      <td>1</td>\n",
       "      <td>1</td>\n",
       "      <td>8</td>\n",
       "      <td>397.26</td>\n",
       "    </tr>\n",
       "    <tr>\n",
       "      <th>1</th>\n",
       "      <td>81e283fa7e4f11123a3fb894f18e6bfb</td>\n",
       "      <td>5</td>\n",
       "      <td>1</td>\n",
       "      <td>1</td>\n",
       "      <td>10</td>\n",
       "      <td>1333.25</td>\n",
       "    </tr>\n",
       "    <tr>\n",
       "      <th>2</th>\n",
       "      <td>6530bb5ed4a7648915306a63d374c9e4</td>\n",
       "      <td>5</td>\n",
       "      <td>1</td>\n",
       "      <td>2</td>\n",
       "      <td>1</td>\n",
       "      <td>682.50</td>\n",
       "    </tr>\n",
       "    <tr>\n",
       "      <th>3</th>\n",
       "      <td>5f95d01e79bd1349cc208361f099d6f1</td>\n",
       "      <td>4</td>\n",
       "      <td>1</td>\n",
       "      <td>1</td>\n",
       "      <td>2</td>\n",
       "      <td>42.78</td>\n",
       "    </tr>\n",
       "    <tr>\n",
       "      <th>4</th>\n",
       "      <td>d871cd5c22b83b5ea8f6e0e2eaf8e099</td>\n",
       "      <td>4</td>\n",
       "      <td>1</td>\n",
       "      <td>1</td>\n",
       "      <td>1</td>\n",
       "      <td>46.96</td>\n",
       "    </tr>\n",
       "    <tr>\n",
       "      <th>...</th>\n",
       "      <td>...</td>\n",
       "      <td>...</td>\n",
       "      <td>...</td>\n",
       "      <td>...</td>\n",
       "      <td>...</td>\n",
       "      <td>...</td>\n",
       "    </tr>\n",
       "    <tr>\n",
       "      <th>52314</th>\n",
       "      <td>734a0b1c8111f2272a3f36d398cd699c</td>\n",
       "      <td>5</td>\n",
       "      <td>1</td>\n",
       "      <td>1</td>\n",
       "      <td>10</td>\n",
       "      <td>351.33</td>\n",
       "    </tr>\n",
       "    <tr>\n",
       "      <th>52315</th>\n",
       "      <td>f0669f784db00fa86d035cf860222ec9</td>\n",
       "      <td>5</td>\n",
       "      <td>1</td>\n",
       "      <td>1</td>\n",
       "      <td>1</td>\n",
       "      <td>209.76</td>\n",
       "    </tr>\n",
       "    <tr>\n",
       "      <th>52316</th>\n",
       "      <td>4744368f5571d1f590031933e455d400</td>\n",
       "      <td>5</td>\n",
       "      <td>1</td>\n",
       "      <td>1</td>\n",
       "      <td>6</td>\n",
       "      <td>231.56</td>\n",
       "    </tr>\n",
       "    <tr>\n",
       "      <th>52317</th>\n",
       "      <td>039fc1f0ceb7635e3f7d92067725825d</td>\n",
       "      <td>4</td>\n",
       "      <td>1</td>\n",
       "      <td>1</td>\n",
       "      <td>1</td>\n",
       "      <td>66.41</td>\n",
       "    </tr>\n",
       "    <tr>\n",
       "      <th>52318</th>\n",
       "      <td>b1eec2a1fbb265a0db050890531360ec</td>\n",
       "      <td>1</td>\n",
       "      <td>1</td>\n",
       "      <td>2</td>\n",
       "      <td>1</td>\n",
       "      <td>40.68</td>\n",
       "    </tr>\n",
       "  </tbody>\n",
       "</table>\n",
       "<p>52319 rows × 6 columns</p>\n",
       "</div>"
      ],
      "text/plain": [
       "                             booking_id  rating_score  payment_sequential  \\\n",
       "0      87114b39712e6da79b0a377eb73fc7af             4                   1   \n",
       "1      81e283fa7e4f11123a3fb894f18e6bfb             5                   1   \n",
       "2      6530bb5ed4a7648915306a63d374c9e4             5                   1   \n",
       "3      5f95d01e79bd1349cc208361f099d6f1             4                   1   \n",
       "4      d871cd5c22b83b5ea8f6e0e2eaf8e099             4                   1   \n",
       "...                                 ...           ...                 ...   \n",
       "52314  734a0b1c8111f2272a3f36d398cd699c             5                   1   \n",
       "52315  f0669f784db00fa86d035cf860222ec9             5                   1   \n",
       "52316  4744368f5571d1f590031933e455d400             5                   1   \n",
       "52317  039fc1f0ceb7635e3f7d92067725825d             4                   1   \n",
       "52318  b1eec2a1fbb265a0db050890531360ec             1                   1   \n",
       "\n",
       "      payment_type  payment_installments  payment_value  \n",
       "0                1                     8         397.26  \n",
       "1                1                    10        1333.25  \n",
       "2                2                     1         682.50  \n",
       "3                1                     2          42.78  \n",
       "4                1                     1          46.96  \n",
       "...            ...                   ...            ...  \n",
       "52314            1                    10         351.33  \n",
       "52315            1                     1         209.76  \n",
       "52316            1                     6         231.56  \n",
       "52317            1                     1          66.41  \n",
       "52318            2                     1          40.68  \n",
       "\n",
       "[52319 rows x 6 columns]"
      ]
     },
     "execution_count": 84,
     "metadata": {},
     "output_type": "execute_result"
    }
   ],
   "source": [
    "df_train_data"
   ]
  },
  {
   "cell_type": "code",
   "execution_count": null,
   "id": "c6b7d843",
   "metadata": {},
   "outputs": [],
   "source": []
  }
 ],
 "metadata": {
  "kernelspec": {
   "display_name": "Python 3.10.5 64-bit",
   "language": "python",
   "name": "python3"
  },
  "language_info": {
   "codemirror_mode": {
    "name": "ipython",
    "version": 3
   },
   "file_extension": ".py",
   "mimetype": "text/x-python",
   "name": "python",
   "nbconvert_exporter": "python",
   "pygments_lexer": "ipython3",
   "version": "3.10.5"
  },
  "vscode": {
   "interpreter": {
    "hash": "beedbe2faf2f7048d727558d0bc3221e7eba2a0b921cac4d4771b2feb8f74b30"
   }
  }
 },
 "nbformat": 4,
 "nbformat_minor": 5
}
